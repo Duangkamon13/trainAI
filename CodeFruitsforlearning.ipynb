#https://colab.research.google.com/drive/1baMXCLVC4qnyKSZ-QhyTUHT2eLgKvcrN?usp=sharing
