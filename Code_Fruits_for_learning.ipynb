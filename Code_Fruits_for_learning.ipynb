{
  "nbformat": 4,
  "nbformat_minor": 0,
  "metadata": {
    "colab": {
      "provenance": [],
      "authorship_tag": "ABX9TyOWzQXiKI7l5e2qx4tqUWBX",
      "include_colab_link": true
    },
    "kernelspec": {
      "name": "python3",
      "display_name": "Python 3"
    },
    "language_info": {
      "name": "python"
    },
    "widgets": {
      "application/vnd.jupyter.widget-state+json": {
        "c66760183b3f4aa8b79087647a042994": {
          "model_module": "@jupyter-widgets/controls",
          "model_name": "FileUploadModel",
          "model_module_version": "1.5.0",
          "state": {
            "_counter": 1,
            "_dom_classes": [],
            "_model_module": "@jupyter-widgets/controls",
            "_model_module_version": "1.5.0",
            "_model_name": "FileUploadModel",
            "_view_count": null,
            "_view_module": "@jupyter-widgets/controls",
            "_view_module_version": "1.5.0",
            "_view_name": "FileUploadView",
            "accept": "",
            "button_style": "",
            "data": [
              null
            ],
            "description": "Upload",
            "description_tooltip": null,
            "disabled": false,
            "error": "",
            "icon": "upload",
            "layout": "IPY_MODEL_23331e49cfb44784bd6da537038d8722",
            "metadata": [
              {
                "name": "Screenshot 2566-10-03 at 12.22.16.png",
                "type": "image/png",
                "size": 984480,
                "lastModified": 1696360944000
              }
            ],
            "multiple": false,
            "style": "IPY_MODEL_e1428d501eb24d9eb23dfe39f77af151"
          }
        },
        "23331e49cfb44784bd6da537038d8722": {
          "model_module": "@jupyter-widgets/base",
          "model_name": "LayoutModel",
          "model_module_version": "1.2.0",
          "state": {
            "_model_module": "@jupyter-widgets/base",
            "_model_module_version": "1.2.0",
            "_model_name": "LayoutModel",
            "_view_count": null,
            "_view_module": "@jupyter-widgets/base",
            "_view_module_version": "1.2.0",
            "_view_name": "LayoutView",
            "align_content": null,
            "align_items": null,
            "align_self": null,
            "border": null,
            "bottom": null,
            "display": null,
            "flex": null,
            "flex_flow": null,
            "grid_area": null,
            "grid_auto_columns": null,
            "grid_auto_flow": null,
            "grid_auto_rows": null,
            "grid_column": null,
            "grid_gap": null,
            "grid_row": null,
            "grid_template_areas": null,
            "grid_template_columns": null,
            "grid_template_rows": null,
            "height": null,
            "justify_content": null,
            "justify_items": null,
            "left": null,
            "margin": null,
            "max_height": null,
            "max_width": null,
            "min_height": null,
            "min_width": null,
            "object_fit": null,
            "object_position": null,
            "order": null,
            "overflow": null,
            "overflow_x": null,
            "overflow_y": null,
            "padding": null,
            "right": null,
            "top": null,
            "visibility": null,
            "width": null
          }
        },
        "e1428d501eb24d9eb23dfe39f77af151": {
          "model_module": "@jupyter-widgets/controls",
          "model_name": "ButtonStyleModel",
          "model_module_version": "1.5.0",
          "state": {
            "_model_module": "@jupyter-widgets/controls",
            "_model_module_version": "1.5.0",
            "_model_name": "ButtonStyleModel",
            "_view_count": null,
            "_view_module": "@jupyter-widgets/base",
            "_view_module_version": "1.2.0",
            "_view_name": "StyleView",
            "button_color": null,
            "font_weight": ""
          }
        }
      }
    }
  },
  "cells": [
    {
      "cell_type": "markdown",
      "metadata": {
        "id": "view-in-github",
        "colab_type": "text"
      },
      "source": [
        "<a href=\"https://colab.research.google.com/github/Duangkamon13/trainAI/blob/main/Code_Fruits_for_learning.ipynb\" target=\"_parent\"><img src=\"https://colab.research.google.com/assets/colab-badge.svg\" alt=\"Open In Colab\"/></a>"
      ]
    },
    {
      "cell_type": "code",
      "execution_count": null,
      "metadata": {
        "id": "ZZl4cVN7oUWD",
        "colab": {
          "base_uri": "https://localhost:8080/"
        },
        "outputId": "2ddc82a6-5cec-4e6d-8153-ef45c6df59e7"
      },
      "outputs": [
        {
          "output_type": "stream",
          "name": "stdout",
          "text": [
            "Collecting gradio\n",
            "  Downloading gradio-5.32.0-py3-none-any.whl.metadata (16 kB)\n",
            "Collecting aiofiles<25.0,>=22.0 (from gradio)\n",
            "  Downloading aiofiles-24.1.0-py3-none-any.whl.metadata (10 kB)\n",
            "Requirement already satisfied: anyio<5.0,>=3.0 in /usr/local/lib/python3.11/dist-packages (from gradio) (4.9.0)\n",
            "Collecting fastapi<1.0,>=0.115.2 (from gradio)\n",
            "  Downloading fastapi-0.115.12-py3-none-any.whl.metadata (27 kB)\n",
            "Collecting ffmpy (from gradio)\n",
            "  Downloading ffmpy-0.5.0-py3-none-any.whl.metadata (3.0 kB)\n",
            "Collecting gradio-client==1.10.2 (from gradio)\n",
            "  Downloading gradio_client-1.10.2-py3-none-any.whl.metadata (7.1 kB)\n",
            "Collecting groovy~=0.1 (from gradio)\n",
            "  Downloading groovy-0.1.2-py3-none-any.whl.metadata (6.1 kB)\n",
            "Requirement already satisfied: httpx>=0.24.1 in /usr/local/lib/python3.11/dist-packages (from gradio) (0.28.1)\n",
            "Requirement already satisfied: huggingface-hub>=0.28.1 in /usr/local/lib/python3.11/dist-packages (from gradio) (0.31.4)\n",
            "Requirement already satisfied: jinja2<4.0 in /usr/local/lib/python3.11/dist-packages (from gradio) (3.1.6)\n",
            "Requirement already satisfied: markupsafe<4.0,>=2.0 in /usr/local/lib/python3.11/dist-packages (from gradio) (3.0.2)\n",
            "Requirement already satisfied: numpy<3.0,>=1.0 in /usr/local/lib/python3.11/dist-packages (from gradio) (2.0.2)\n",
            "Requirement already satisfied: orjson~=3.0 in /usr/local/lib/python3.11/dist-packages (from gradio) (3.10.18)\n",
            "Requirement already satisfied: packaging in /usr/local/lib/python3.11/dist-packages (from gradio) (24.2)\n",
            "Requirement already satisfied: pandas<3.0,>=1.0 in /usr/local/lib/python3.11/dist-packages (from gradio) (2.2.2)\n",
            "Requirement already satisfied: pillow<12.0,>=8.0 in /usr/local/lib/python3.11/dist-packages (from gradio) (11.2.1)\n",
            "Requirement already satisfied: pydantic<2.12,>=2.0 in /usr/local/lib/python3.11/dist-packages (from gradio) (2.11.4)\n",
            "Collecting pydub (from gradio)\n",
            "  Downloading pydub-0.25.1-py2.py3-none-any.whl.metadata (1.4 kB)\n",
            "Collecting python-multipart>=0.0.18 (from gradio)\n",
            "  Downloading python_multipart-0.0.20-py3-none-any.whl.metadata (1.8 kB)\n",
            "Requirement already satisfied: pyyaml<7.0,>=5.0 in /usr/local/lib/python3.11/dist-packages (from gradio) (6.0.2)\n",
            "Collecting ruff>=0.9.3 (from gradio)\n",
            "  Downloading ruff-0.11.12-py3-none-manylinux_2_17_x86_64.manylinux2014_x86_64.whl.metadata (25 kB)\n",
            "Collecting safehttpx<0.2.0,>=0.1.6 (from gradio)\n",
            "  Downloading safehttpx-0.1.6-py3-none-any.whl.metadata (4.2 kB)\n",
            "Collecting semantic-version~=2.0 (from gradio)\n",
            "  Downloading semantic_version-2.10.0-py2.py3-none-any.whl.metadata (9.7 kB)\n",
            "Collecting starlette<1.0,>=0.40.0 (from gradio)\n",
            "  Downloading starlette-0.47.0-py3-none-any.whl.metadata (6.2 kB)\n",
            "Collecting tomlkit<0.14.0,>=0.12.0 (from gradio)\n",
            "  Downloading tomlkit-0.13.2-py3-none-any.whl.metadata (2.7 kB)\n",
            "Requirement already satisfied: typer<1.0,>=0.12 in /usr/local/lib/python3.11/dist-packages (from gradio) (0.15.3)\n",
            "Requirement already satisfied: typing-extensions~=4.0 in /usr/local/lib/python3.11/dist-packages (from gradio) (4.13.2)\n",
            "Collecting uvicorn>=0.14.0 (from gradio)\n",
            "  Downloading uvicorn-0.34.2-py3-none-any.whl.metadata (6.5 kB)\n",
            "Requirement already satisfied: fsspec in /usr/local/lib/python3.11/dist-packages (from gradio-client==1.10.2->gradio) (2025.3.2)\n",
            "Requirement already satisfied: websockets<16.0,>=10.0 in /usr/local/lib/python3.11/dist-packages (from gradio-client==1.10.2->gradio) (15.0.1)\n",
            "Requirement already satisfied: idna>=2.8 in /usr/local/lib/python3.11/dist-packages (from anyio<5.0,>=3.0->gradio) (3.10)\n",
            "Requirement already satisfied: sniffio>=1.1 in /usr/local/lib/python3.11/dist-packages (from anyio<5.0,>=3.0->gradio) (1.3.1)\n",
            "Collecting starlette<1.0,>=0.40.0 (from gradio)\n",
            "  Downloading starlette-0.46.2-py3-none-any.whl.metadata (6.2 kB)\n",
            "Requirement already satisfied: certifi in /usr/local/lib/python3.11/dist-packages (from httpx>=0.24.1->gradio) (2025.4.26)\n",
            "Requirement already satisfied: httpcore==1.* in /usr/local/lib/python3.11/dist-packages (from httpx>=0.24.1->gradio) (1.0.9)\n",
            "Requirement already satisfied: h11>=0.16 in /usr/local/lib/python3.11/dist-packages (from httpcore==1.*->httpx>=0.24.1->gradio) (0.16.0)\n",
            "Requirement already satisfied: filelock in /usr/local/lib/python3.11/dist-packages (from huggingface-hub>=0.28.1->gradio) (3.18.0)\n",
            "Requirement already satisfied: requests in /usr/local/lib/python3.11/dist-packages (from huggingface-hub>=0.28.1->gradio) (2.32.3)\n",
            "Requirement already satisfied: tqdm>=4.42.1 in /usr/local/lib/python3.11/dist-packages (from huggingface-hub>=0.28.1->gradio) (4.67.1)\n",
            "Requirement already satisfied: python-dateutil>=2.8.2 in /usr/local/lib/python3.11/dist-packages (from pandas<3.0,>=1.0->gradio) (2.9.0.post0)\n",
            "Requirement already satisfied: pytz>=2020.1 in /usr/local/lib/python3.11/dist-packages (from pandas<3.0,>=1.0->gradio) (2025.2)\n",
            "Requirement already satisfied: tzdata>=2022.7 in /usr/local/lib/python3.11/dist-packages (from pandas<3.0,>=1.0->gradio) (2025.2)\n",
            "Requirement already satisfied: annotated-types>=0.6.0 in /usr/local/lib/python3.11/dist-packages (from pydantic<2.12,>=2.0->gradio) (0.7.0)\n",
            "Requirement already satisfied: pydantic-core==2.33.2 in /usr/local/lib/python3.11/dist-packages (from pydantic<2.12,>=2.0->gradio) (2.33.2)\n",
            "Requirement already satisfied: typing-inspection>=0.4.0 in /usr/local/lib/python3.11/dist-packages (from pydantic<2.12,>=2.0->gradio) (0.4.1)\n",
            "Requirement already satisfied: click>=8.0.0 in /usr/local/lib/python3.11/dist-packages (from typer<1.0,>=0.12->gradio) (8.2.1)\n",
            "Requirement already satisfied: shellingham>=1.3.0 in /usr/local/lib/python3.11/dist-packages (from typer<1.0,>=0.12->gradio) (1.5.4)\n",
            "Requirement already satisfied: rich>=10.11.0 in /usr/local/lib/python3.11/dist-packages (from typer<1.0,>=0.12->gradio) (13.9.4)\n",
            "Requirement already satisfied: six>=1.5 in /usr/local/lib/python3.11/dist-packages (from python-dateutil>=2.8.2->pandas<3.0,>=1.0->gradio) (1.17.0)\n",
            "Requirement already satisfied: markdown-it-py>=2.2.0 in /usr/local/lib/python3.11/dist-packages (from rich>=10.11.0->typer<1.0,>=0.12->gradio) (3.0.0)\n",
            "Requirement already satisfied: pygments<3.0.0,>=2.13.0 in /usr/local/lib/python3.11/dist-packages (from rich>=10.11.0->typer<1.0,>=0.12->gradio) (2.19.1)\n",
            "Requirement already satisfied: charset-normalizer<4,>=2 in /usr/local/lib/python3.11/dist-packages (from requests->huggingface-hub>=0.28.1->gradio) (3.4.2)\n",
            "Requirement already satisfied: urllib3<3,>=1.21.1 in /usr/local/lib/python3.11/dist-packages (from requests->huggingface-hub>=0.28.1->gradio) (2.4.0)\n",
            "Requirement already satisfied: mdurl~=0.1 in /usr/local/lib/python3.11/dist-packages (from markdown-it-py>=2.2.0->rich>=10.11.0->typer<1.0,>=0.12->gradio) (0.1.2)\n",
            "Downloading gradio-5.32.0-py3-none-any.whl (54.2 MB)\n",
            "\u001b[2K   \u001b[90m━━━━━━━━━━━━━━━━━━━━━━━━━━━━━━━━━━━━━━━━\u001b[0m \u001b[32m54.2/54.2 MB\u001b[0m \u001b[31m8.7 MB/s\u001b[0m eta \u001b[36m0:00:00\u001b[0m\n",
            "\u001b[?25hDownloading gradio_client-1.10.2-py3-none-any.whl (323 kB)\n",
            "\u001b[2K   \u001b[90m━━━━━━━━━━━━━━━━━━━━━━━━━━━━━━━━━━━━━━━━\u001b[0m \u001b[32m323.3/323.3 kB\u001b[0m \u001b[31m9.5 MB/s\u001b[0m eta \u001b[36m0:00:00\u001b[0m\n",
            "\u001b[?25hDownloading aiofiles-24.1.0-py3-none-any.whl (15 kB)\n",
            "Downloading fastapi-0.115.12-py3-none-any.whl (95 kB)\n",
            "\u001b[2K   \u001b[90m━━━━━━━━━━━━━━━━━━━━━━━━━━━━━━━━━━━━━━━━\u001b[0m \u001b[32m95.2/95.2 kB\u001b[0m \u001b[31m5.7 MB/s\u001b[0m eta \u001b[36m0:00:00\u001b[0m\n",
            "\u001b[?25hDownloading groovy-0.1.2-py3-none-any.whl (14 kB)\n",
            "Downloading python_multipart-0.0.20-py3-none-any.whl (24 kB)\n",
            "Downloading ruff-0.11.12-py3-none-manylinux_2_17_x86_64.manylinux2014_x86_64.whl (11.5 MB)\n",
            "\u001b[2K   \u001b[90m━━━━━━━━━━━━━━━━━━━━━━━━━━━━━━━━━━━━━━━━\u001b[0m \u001b[32m11.5/11.5 MB\u001b[0m \u001b[31m32.4 MB/s\u001b[0m eta \u001b[36m0:00:00\u001b[0m\n",
            "\u001b[?25hDownloading safehttpx-0.1.6-py3-none-any.whl (8.7 kB)\n",
            "Downloading semantic_version-2.10.0-py2.py3-none-any.whl (15 kB)\n",
            "Downloading starlette-0.46.2-py3-none-any.whl (72 kB)\n",
            "\u001b[2K   \u001b[90m━━━━━━━━━━━━━━━━━━━━━━━━━━━━━━━━━━━━━━━━\u001b[0m \u001b[32m72.0/72.0 kB\u001b[0m \u001b[31m3.5 MB/s\u001b[0m eta \u001b[36m0:00:00\u001b[0m\n",
            "\u001b[?25hDownloading tomlkit-0.13.2-py3-none-any.whl (37 kB)\n",
            "Downloading uvicorn-0.34.2-py3-none-any.whl (62 kB)\n",
            "\u001b[2K   \u001b[90m━━━━━━━━━━━━━━━━━━━━━━━━━━━━━━━━━━━━━━━━\u001b[0m \u001b[32m62.5/62.5 kB\u001b[0m \u001b[31m3.7 MB/s\u001b[0m eta \u001b[36m0:00:00\u001b[0m\n",
            "\u001b[?25hDownloading ffmpy-0.5.0-py3-none-any.whl (6.0 kB)\n",
            "Downloading pydub-0.25.1-py2.py3-none-any.whl (32 kB)\n",
            "Installing collected packages: pydub, uvicorn, tomlkit, semantic-version, ruff, python-multipart, groovy, ffmpy, aiofiles, starlette, safehttpx, gradio-client, fastapi, gradio\n",
            "Successfully installed aiofiles-24.1.0 fastapi-0.115.12 ffmpy-0.5.0 gradio-5.32.0 gradio-client-1.10.2 groovy-0.1.2 pydub-0.25.1 python-multipart-0.0.20 ruff-0.11.12 safehttpx-0.1.6 semantic-version-2.10.0 starlette-0.46.2 tomlkit-0.13.2 uvicorn-0.34.2\n",
            "\u001b[2K   \u001b[90m━━━━━━━━━━━━━━━━━━━━━━━━━━━━━━━━━━━━━━━━\u001b[0m \u001b[32m719.8/719.8 kB\u001b[0m \u001b[31m18.6 MB/s\u001b[0m eta \u001b[36m0:00:00\u001b[0m\n",
            "\u001b[2K   \u001b[90m━━━━━━━━━━━━━━━━━━━━━━━━━━━━━━━━━━━━━━━━\u001b[0m \u001b[32m363.4/363.4 MB\u001b[0m \u001b[31m4.4 MB/s\u001b[0m eta \u001b[36m0:00:00\u001b[0m\n",
            "\u001b[2K   \u001b[90m━━━━━━━━━━━━━━━━━━━━━━━━━━━━━━━━━━━━━━━━\u001b[0m \u001b[32m13.8/13.8 MB\u001b[0m \u001b[31m89.0 MB/s\u001b[0m eta \u001b[36m0:00:00\u001b[0m\n",
            "\u001b[2K   \u001b[90m━━━━━━━━━━━━━━━━━━━━━━━━━━━━━━━━━━━━━━━━\u001b[0m \u001b[32m24.6/24.6 MB\u001b[0m \u001b[31m89.5 MB/s\u001b[0m eta \u001b[36m0:00:00\u001b[0m\n",
            "\u001b[2K   \u001b[90m━━━━━━━━━━━━━━━━━━━━━━━━━━━━━━━━━━━━━━━━\u001b[0m \u001b[32m883.7/883.7 kB\u001b[0m \u001b[31m56.4 MB/s\u001b[0m eta \u001b[36m0:00:00\u001b[0m\n",
            "\u001b[2K   \u001b[90m━━━━━━━━━━━━━━━━━━━━━━━━━━━━━━━━━━━━━━━━\u001b[0m \u001b[32m664.8/664.8 MB\u001b[0m \u001b[31m2.9 MB/s\u001b[0m eta \u001b[36m0:00:00\u001b[0m\n",
            "\u001b[2K   \u001b[90m━━━━━━━━━━━━━━━━━━━━━━━━━━━━━━━━━━━━━━━━\u001b[0m \u001b[32m211.5/211.5 MB\u001b[0m \u001b[31m5.8 MB/s\u001b[0m eta \u001b[36m0:00:00\u001b[0m\n",
            "\u001b[2K   \u001b[90m━━━━━━━━━━━━━━━━━━━━━━━━━━━━━━━━━━━━━━━━\u001b[0m \u001b[32m56.3/56.3 MB\u001b[0m \u001b[31m12.5 MB/s\u001b[0m eta \u001b[36m0:00:00\u001b[0m\n",
            "\u001b[2K   \u001b[90m━━━━━━━━━━━━━━━━━━━━━━━━━━━━━━━━━━━━━━━━\u001b[0m \u001b[32m127.9/127.9 MB\u001b[0m \u001b[31m7.2 MB/s\u001b[0m eta \u001b[36m0:00:00\u001b[0m\n",
            "\u001b[2K   \u001b[90m━━━━━━━━━━━━━━━━━━━━━━━━━━━━━━━━━━━━━━━━\u001b[0m \u001b[32m207.5/207.5 MB\u001b[0m \u001b[31m6.0 MB/s\u001b[0m eta \u001b[36m0:00:00\u001b[0m\n",
            "\u001b[2K   \u001b[90m━━━━━━━━━━━━━━━━━━━━━━━━━━━━━━━━━━━━━━━━\u001b[0m \u001b[32m21.1/21.1 MB\u001b[0m \u001b[31m41.6 MB/s\u001b[0m eta \u001b[36m0:00:00\u001b[0m\n",
            "\u001b[2K   \u001b[90m━━━━━━━━━━━━━━━━━━━━━━━━━━━━━━━━━━━━━━━━\u001b[0m \u001b[32m1.6/1.6 MB\u001b[0m \u001b[31m55.8 MB/s\u001b[0m eta \u001b[36m0:00:00\u001b[0m\n",
            "\u001b[?25h"
          ]
        }
      ],
      "source": [
        "!pip install gradio\n",
        "!pip install -q fastbook==0.0.29 #\n"
      ]
    },
    {
      "cell_type": "code",
      "source": [
        "from google.colab import drive\n",
        "drive.mount('/content/drive')"
      ],
      "metadata": {
        "id": "Kxj1X0XdpV3A"
      },
      "execution_count": null,
      "outputs": []
    },
    {
      "cell_type": "code",
      "source": [
        "from pandas import describe_option\n",
        "import gradio as gr\n",
        "from PIL import Image\n",
        "from fastai.vision.all import *\n",
        "from logging import PlaceHolder\n",
        "nongAI=load_learner('/content/drive/MyDrive/pollajai.pkl')\n"
      ],
      "metadata": {
        "id": "c5IoYknXr6Di"
      },
      "execution_count": null,
      "outputs": []
    },
    {
      "cell_type": "code",
      "source": [
        "dialect = {\n",
        "    'Apple' :{\n",
        "        'Formal_language': 'แอปเปิ้ล',\n",
        "        'Isan_dialect' : 'บักแอปเปิ้ล',\n",
        "        'Northern_Thai_dialect' : 'บ่ะเปิ้ล',\n",
        "        'Southern_Thai_dialect': 'แอปเปิ้ล'\n",
        "        },\n",
        "     'avocado':{\n",
        "        'Formal_language': 'อะโวคาโด',\n",
        "        'Isan_dialect' : 'อะโวคาโด',\n",
        "        'Northern_Thai_dialect' : 'อะโวคาโด',\n",
        "        'Southern_Thai_dialect': 'อะโวคาโด'\n",
        "     },\n",
        "    'Banana': {\n",
        "        'Formal_language': 'กล้วย',\n",
        "        'Isan_dialect' : 'กล้วย',\n",
        "        'Northern_Thai_dialect' : 'ก้วย',\n",
        "        'Southern_Thai_dialect': 'กล้วย'\n",
        "    },\n",
        "    'blueberry':{\n",
        "        'Formal_language': 'บลูเบอรี่',\n",
        "        'Isan_dialect' : 'บลูเบอรี่',\n",
        "        'Northern_Thai_dialect' : 'บลูเบอรี่',\n",
        "        'Southern_Thai_dialect': 'บลูเบอรี่'\n",
        "    },\n",
        "    'Black berry':{\n",
        "        'Formal_language': 'แบล็คเบอรี่',\n",
        "        'Isan_dialect' : 'แบล็คเบอรี่',\n",
        "        'Northern_Thai_dialect' : 'แบล็คเบอรี่',\n",
        "        'Southern_Thai_dialect': 'แบล็คเบอรี่'\n",
        "    },\n",
        "    'bread fruit':{\n",
        "        'Formal_language': 'สาเก,ขนุนสำปะลอ',\n",
        "        'Isan_dialect' : 'บักสาเก',\n",
        "        'Northern_Thai_dialect' : 'บ่ะสาเก',\n",
        "        'Southern_Thai_dialect': 'สาเก'\n",
        "    },\n",
        "    'burmese grape':{\n",
        "        'Formal_language': 'มะไฟ',\n",
        "        'Isan_dialect' : 'บักไฟ',\n",
        "        'Northern_Thai_dialect' : 'บ่าไฟ',\n",
        "        'Southern_Thai_dialect': 'ลูกไฟ'\n",
        "    },\n",
        "    'cantaloupe':{\n",
        "        'Formal_language': 'แคนตาลูป',\n",
        "        'Isan_dialect' : 'แคนตาลูป',\n",
        "        'Northern_Thai_dialect' : 'แคนตาลุป',\n",
        "        'Southern_Thai_dialect': 'แคนตาลูป'\n",
        "    },\n",
        "    'cherry':{\n",
        "        'Formal_language': 'เชอร์รี่',\n",
        "        'Isan_dialect' : 'บักยมแดง',\n",
        "        'Northern_Thai_dialect' : 'เชอร์รี่',\n",
        "        'Southern_Thai_dialect': 'เชอร์รี่'\n",
        "    },\n",
        "    'coconut':{\n",
        "        'Formal_language': 'มะพร้าว',\n",
        "        'Isan_dialect' : 'บักพร้าว',\n",
        "        'Northern_Thai_dialect' : 'บะป๊าว',\n",
        "        'Southern_Thai_dialect': 'ลูกพร้าว'\n",
        "    },\n",
        "    'Corn':{\n",
        "        'Formal_language': 'ข้าวโพด',\n",
        "        'Isan_dialect' : 'เข่าโพด',\n",
        "        'Northern_Thai_dialect' : 'เข้าโพด',\n",
        "        'Southern_Thai_dialect': 'คง'\n",
        "    },\n",
        "    'cranberry':{\n",
        "        'Formal_language': 'แครนเบอร์รี',\n",
        "        'Isan_dialect' : 'แครนเบอร์รี',\n",
        "        'Northern_Thai_dialect' : 'แครนเบอร์รี',\n",
        "        'Southern_Thai_dialect': 'แครนเบอร์รี'\n",
        "    },\n",
        "    'date':{\n",
        "        'Formal_language': 'อินทผาลัม',\n",
        "        'Isan_dialect' : 'อินทผาลัม',\n",
        "        'Northern_Thai_dialect' : 'อินทผาลัม',\n",
        "        'Southern_Thai_dialect': 'อินทผาลัม'\n",
        "    },\n",
        "    'Dragon Fruit':{\n",
        "        'Formal_language': 'แก้วมังกร',\n",
        "        'Isan_dialect' : 'แก้วมังกร',\n",
        "        'Northern_Thai_dialect' : 'แก้วมังกร',\n",
        "        'Southern_Thai_dialect': 'แก้วมังกร'\n",
        "    },\n",
        "    'durian':{\n",
        "        'Formal_language': 'ทุเรียน',\n",
        "        'Isan_dialect' : 'บักทุเรียน',\n",
        "        'Northern_Thai_dialect' : 'มะทุเรียน',\n",
        "        'Southern_Thai_dialect': 'เรียน'\n",
        "    },\n",
        "    'Grapes':{\n",
        "        'Formal_language': 'องุ่น',\n",
        "        'Isan_dialect' : 'องุ่น',\n",
        "        'Northern_Thai_dialect' : 'องุ่น',\n",
        "        'Southern_Thai_dialect': 'องุ่น'\n",
        "    },\n",
        "    'guava':{\n",
        "        'Formal_language': 'ฝรั่ง',\n",
        "        'Isan_dialect' : 'บักสีดา',\n",
        "        'Northern_Thai_dialect' : 'บะแกว',\n",
        "        'Southern_Thai_dialect': 'ชมพู่'\n",
        "    },\n",
        "    'jackfruit':{\n",
        "        'Formal_language': 'ขนุน',\n",
        "        'Isan_dialect' : 'บักมี่',\n",
        "        'Northern_Thai_dialect' : 'หมะหนุน',\n",
        "        'Southern_Thai_dialect': 'หนุน'\n",
        "    },\n",
        "    'jujube':{\n",
        "        'Formal_language': 'พุทรา',\n",
        "        'Isan_dialect' : 'บักทัน',\n",
        "        'Northern_Thai_dialect' : 'หมะดัน',\n",
        "        'Southern_Thai_dialect': 'พุทรา'\n",
        "    },\n",
        "    'kiwi':{\n",
        "        'Formal_language': 'กีวี',\n",
        "        'Isan_dialect' : 'กีวี',\n",
        "        'Northern_Thai_dialect' : 'กีวี',\n",
        "        'Southern_Thai_dialect': 'กีวี'\n",
        "    },\n",
        "    'langsat':{\n",
        "        'Formal_language': 'ลองกอง',\n",
        "        'Isan_dialect' : 'บักลองกอง',\n",
        "        'Northern_Thai_dialect' : 'ลองกอง',\n",
        "        'Southern_Thai_dialect': 'ดูกง'\n",
        "    },\n",
        "    'Litchi':{\n",
        "        'Formal_language': 'ลิ้นจี่',\n",
        "        'Isan_dialect' : 'ลิ้นจี่',\n",
        "        'Northern_Thai_dialect' : 'ลิ้นจี่',\n",
        "        'Southern_Thai_dialect': 'ลิ้นจี่'\n",
        "    },\n",
        "    'Longan':{\n",
        "        'Formal_language': 'ลำไย',\n",
        "        'Isan_dialect' : 'บักลำไย',\n",
        "        'Northern_Thai_dialect' : 'บ่าลำไย',\n",
        "        'Southern_Thai_dialect': 'ลำไย'\n",
        "    },\n",
        "    'mango':{\n",
        "        'Formal_language': 'มะม่วง',\n",
        "        'Isan_dialect' : 'บักม่วง',\n",
        "        'Northern_Thai_dialect' : 'บ่ะม่วง',\n",
        "        'Southern_Thai_dialect': 'มะม่วง,ส้มม่วง'\n",
        "    },\n",
        "    'mangosteen':{\n",
        "        'Formal_language': 'มังคุด',\n",
        "        'Isan_dialect' : 'บักมังคุด',\n",
        "        'Northern_Thai_dialect' : 'มังคุด',\n",
        "        'Southern_Thai_dialect': 'มังคุด'\n",
        "    },\n",
        "    'manila tamarind':{\n",
        "        'Formal_language': 'มะขามเทศ',\n",
        "        'Isan_dialect' : 'หมากขามแป',\n",
        "        'Northern_Thai_dialect' : 'บ่าขามเทศ',\n",
        "        'Southern_Thai_dialect': 'ม่ะขามเทศ'\n",
        "    },\n",
        "    'muskmelon':{\n",
        "        'Formal_language': 'แตงไทย',\n",
        "        'Isan_dialect' : 'แตงจิง,แตงกิง',\n",
        "        'Northern_Thai_dialect' : 'แตงลาย,มะแตงสุก',\n",
        "        'Southern_Thai_dialect': 'ลูกแตงไทย'\n",
        "    },\n",
        "    'orange':{\n",
        "        'Formal_language': 'ส้ม',\n",
        "        'Isan_dialect' : 'ส่ม',\n",
        "        'Northern_Thai_dialect' : 'ส้ม',\n",
        "        'Southern_Thai_dialect': 'ลูกส้ม'\n",
        "    },\n",
        "    'papaya':{\n",
        "        'Formal_language': 'มะละกอ',\n",
        "        'Isan_dialect' : 'บักหุ่ง',\n",
        "        'Northern_Thai_dialect' : 'บะก้วยเต๊ด',\n",
        "        'Southern_Thai_dialect': 'ลอกอ'\n",
        "    },\n",
        "    'passion fruit':{\n",
        "        'Formal_language': 'เสาวรส',\n",
        "        'Isan_dialect' : 'บักกะทกล้ก',\n",
        "        'Northern_Thai_dialect' : 'โหน่ยบ่ะทกรก',\n",
        "        'Southern_Thai_dialect': 'ลูกทกรก'\n",
        "    },\n",
        "    'Peach':{\n",
        "        'Formal_language': 'ลูกพีช,ท้อ',\n",
        "        'Isan_dialect' : 'ลูกท้อ,พีช',\n",
        "        'Northern_Thai_dialect' : 'ลูกท้อ,พีช',\n",
        "        'Southern_Thai_dialect': 'ลูกท้อ,พีช'\n",
        "    },\n",
        "    'Pear':{\n",
        "        'Formal_language': 'สาลี่',\n",
        "        'Isan_dialect' : 'บักสาลี่',\n",
        "        'Northern_Thai_dialect' : 'ม่ะสาลี่',\n",
        "        'Southern_Thai_dialect': 'ไลอ้า'\n",
        "    },\n",
        "    'persimmon':{\n",
        "        'Formal_language': 'ลูกพลับ',\n",
        "        'Isan_dialect' : 'หมากพลับ',\n",
        "        'Northern_Thai_dialect' : 'ลูกพลับ',\n",
        "        'Southern_Thai_dialect': 'ลูกพลับ'\n",
        "    },\n",
        "    'pinenapple':{\n",
        "        'Formal_language': 'สับปะรด',\n",
        "        'Isan_dialect' : 'บักนัด',\n",
        "        'Northern_Thai_dialect' : 'บะขะนัด',\n",
        "        'Southern_Thai_dialect': 'ยานัด'\n",
        "    },\n",
        "    'Plum':{\n",
        "        'Formal_language': 'ลูกพลัม',\n",
        "        'Isan_dialect' : 'ลูกไหน',\n",
        "        'Northern_Thai_dialect' : 'ลูกพลัม',\n",
        "        'Southern_Thai_dialect': 'ลูกพรุน'\n",
        "    },\n",
        "    'pomelo':{\n",
        "        'Formal_language': 'ส้มโอ',\n",
        "        'Isan_dialect' : 'บักส้มโอ',\n",
        "        'Northern_Thai_dialect' : 'บะโอ',\n",
        "        'Southern_Thai_dialect': 'นาวโอ'\n",
        "    },\n",
        "    'Rambutan':{\n",
        "        'Formal_language': 'เงาะ',\n",
        "        'Isan_dialect' : 'บักเงาะ',\n",
        "        'Northern_Thai_dialect' : 'เงาะ',\n",
        "        'Southern_Thai_dialect': 'ลูกผมเงาะ,ราโบด'\n",
        "    },\n",
        "    'raspberry':{\n",
        "        'Formal_language': 'ราสเบอรี่',\n",
        "        'Isan_dialect' : 'ราสเบอรี่',\n",
        "        'Northern_Thai_dialect' : 'ราสเบอรี่',\n",
        "        'Southern_Thai_dialect': 'ราสเบอรี่'\n",
        "    },\n",
        "    'salak':{\n",
        "        'Formal_language': 'สละ',\n",
        "        'Isan_dialect' : 'สละ',\n",
        "        'Northern_Thai_dialect' : 'สละ',\n",
        "        'Southern_Thai_dialect': 'กะหลุมพี'\n",
        "    },\n",
        "    'santol':{\n",
        "        'Formal_language': 'กระท้อน',\n",
        "        'Isan_dialect' : 'บักกะท้อน,บักต้อง',\n",
        "        'Northern_Thai_dialect' : 'มะตื้น,มะต้อง',\n",
        "        'Southern_Thai_dialect': 'ล่อน,เตียน,สะตู,สะโต'\n",
        "    },\n",
        "    'sapodila':{\n",
        "        'Formal_language': 'ละมุด',\n",
        "        'Isan_dialect' : 'บักละมุด',\n",
        "        'Northern_Thai_dialect' : 'หละมุด',\n",
        "        'Southern_Thai_dialect': 'หมุดหรั่ง'\n",
        "    },\n",
        "    'strawberries':{\n",
        "        'Formal_language': 'สตอเบอรี่',\n",
        "        'Isan_dialect' : 'สตอเบอรี่',\n",
        "        'Northern_Thai_dialect' : 'สตอเบอรี่',\n",
        "        'Southern_Thai_dialect': 'สตอเบอรี่'\n",
        "    },\n",
        "    'sugar apple':{\n",
        "        'Formal_language': 'น้อยหน่า',\n",
        "        'Isan_dialect' : 'บักเขียบ',\n",
        "        'Northern_Thai_dialect' : 'บะแน',\n",
        "        'Southern_Thai_dialect': 'น้อยหน่า'\n",
        "    },\n",
        "    'Tamarind':{\n",
        "        'Formal_language': 'มะขาม',\n",
        "        'Isan_dialect' : 'บักขาม',\n",
        "        'Northern_Thai_dialect' : 'บ่ะขาม',\n",
        "        'Southern_Thai_dialect': 'ลูกขาม'\n",
        "    },\n",
        "    'watermelon':{\n",
        "        'Formal_language': 'แตงโม',\n",
        "        'Isan_dialect' : 'บักแตงโม',\n",
        "        'Northern_Thai_dialect' : 'มะเต้า',\n",
        "        'Southern_Thai_dialect': 'ลูกแตง'\n",
        "    },\n",
        "\n",
        "}"
      ],
      "metadata": {
        "id": "gdkeo7V13wzS"
      },
      "execution_count": null,
      "outputs": []
    },
    {
      "cell_type": "code",
      "source": [
        "from gradio.components import clear_button\n",
        "import gradio as gr\n",
        "\n",
        "# สร้างฟังก์ชันที่ต้องการให้ Gradio ใช้\n",
        "def guess_fruit(img):\n",
        "    kind, _, error = nongAI.predict(img)\n",
        "    fruits = str(kind)\n",
        "    error = error[1].item() * 10**6\n",
        "    info = dialect[fruits]\n",
        "    if error > 10**10:\n",
        "        return f\"<h3>Error Percentage</h3>: {error:.2f}%\", \\\n",
        "               f\"<h3>Formal Language</h3>: ขออภัยสำหรับข้อผิดพลาดค่ะ\", \\\n",
        "               f\"<h3>Isan Dialect</h3>: ขออภัยสำหรับข้อผิดพลาดเด้อ\", \\\n",
        "               f\"<h3>Northern Thai Dialect</h3>: ขอสุมาเต๊อะจ้าว\", \\\n",
        "               f\"<h3>Southern Thai Dialect</h3>: ขอโทษสำหรับข้อผิดพลาด\"\n",
        "\n",
        "    return f\"<h3>Error Percentage</h3>: {error:.2f}%\", \\\n",
        "           f\"<h3>Formal Language</h3>: {info['Formal_language']}\", \\\n",
        "           f\"<h3>Isan Dialect</h3>: {info['Isan_dialect']}\", \\\n",
        "           f\"<h3>Northern Thai Dialect</h3>: {info['Northern_Thai_dialect']}\", \\\n",
        "           f\"<h3>Southern Thai Dialect</h3>: {info['Southern_Thai_dialect']}\"\n",
        "\n",
        "\n",
        "\n",
        "examplesp = [\n",
        "    [\"https://cdn.pixabay.com/photo/2017/09/26/13/31/apple-2788616_1280.jpg\"],  # ตัวอย่างแอปเปิ้ล\n",
        "    [\"https://cdn.pixabay.com/photo/2016/10/07/14/11/tangerines-1721633_1280.jpg\"],  # ตัวอย่างส้ม\n",
        "    [\"https://cdn.pixabay.com/photo/2017/03/01/15/50/jackfruit-2108869_1280.jpg\"], # ตัวอย่างขนุน\n",
        "    [\"https://cdn.pixabay.com/photo/2016/03/05/21/50/fresh-1239116_1280.jpg\"], #ตัวอย่างสัปปะรด\n",
        "    [\"https://cdn.pixabay.com/photo/2018/09/24/20/12/bananas-3700718_1280.jpg\"] #ตัวอย่างกล้วย\n",
        "\n",
        "]\n",
        "\n",
        "\n",
        "iface = gr.Interface(\n",
        "    fn=guess_fruit,\n",
        "    inputs=\"image\",\n",
        "    outputs=[\n",
        "        gr.outputs.HTML(\"Error Percentage\"),  # Output for error percentage\n",
        "        gr.outputs.HTML(\"Formal Language\"),   # Output for Formal language\n",
        "        gr.outputs.HTML(\"Isan Dialect\"),      # Output for Isan dialect\n",
        "        gr.outputs.HTML(\"Northern Thai Dialect\"),  # Output for Northern Thai dialect\n",
        "        gr.outputs.HTML(\"Southern Thai Dialect\")   # Output for Southern Thai dialect\n",
        "    ],\n",
        "    title=\"&#127815;&#127821;FRUITS TO LEARNING &#127817;&#129744\",\n",
        "    description=\"▶▶Names of Fruits in Different Regions of Thailand◀◀\",\n",
        "    theme='enescakircali/Indian-Henna',\n",
        "    examples=examplesp,\n",
        ")\n",
        "\n",
        "iface.launch()\n"
      ],
      "metadata": {
        "colab": {
          "base_uri": "https://localhost:8080/",
          "height": 643
        },
        "id": "Fw_EmTP7qqAj",
        "outputId": "0ae4b1f6-34dd-4d3b-fab3-23e74f7f75e2"
      },
      "execution_count": null,
      "outputs": [
        {
          "output_type": "stream",
          "name": "stdout",
          "text": [
            "Setting queue=True in a Colab notebook requires sharing enabled. Setting `share=True` (you can turn this off by setting `share=False` in `launch()` explicitly).\n",
            "\n",
            "Colab notebook detected. To show errors in colab notebook, set debug=True in launch()\n",
            "Running on public URL: https://39f67c628028024303.gradio.live\n",
            "\n",
            "This share link expires in 72 hours. For free permanent hosting and GPU upgrades, run `gradio deploy` from Terminal to deploy to Spaces (https://huggingface.co/spaces)\n"
          ]
        },
        {
          "output_type": "display_data",
          "data": {
            "text/plain": [
              "<IPython.core.display.HTML object>"
            ],
            "text/html": [
              "<div><iframe src=\"https://39f67c628028024303.gradio.live\" width=\"100%\" height=\"500\" allow=\"autoplay; camera; microphone; clipboard-read; clipboard-write;\" frameborder=\"0\" allowfullscreen></iframe></div>"
            ]
          },
          "metadata": {}
        },
        {
          "output_type": "execute_result",
          "data": {
            "text/plain": []
          },
          "metadata": {},
          "execution_count": 7
        }
      ]
    },
    {
      "cell_type": "code",
      "source": [
        "import ipywidgets as widgets"
      ],
      "metadata": {
        "id": "Y6tyya4_oJx3"
      },
      "execution_count": null,
      "outputs": []
    },
    {
      "cell_type": "code",
      "source": [
        "#uploader = widgets.FileUpload()\n",
        "#uploader"
      ],
      "metadata": {
        "colab": {
          "base_uri": "https://localhost:8080/",
          "height": 49,
          "referenced_widgets": [
            "c66760183b3f4aa8b79087647a042994",
            "23331e49cfb44784bd6da537038d8722",
            "e1428d501eb24d9eb23dfe39f77af151"
          ]
        },
        "id": "oMH5FN38ngI8",
        "outputId": "e0c7f285-faa5-4d71-fd4c-d78acdad6694"
      },
      "execution_count": null,
      "outputs": [
        {
          "output_type": "display_data",
          "data": {
            "text/plain": [
              "FileUpload(value={}, description='Upload')"
            ],
            "application/vnd.jupyter.widget-view+json": {
              "version_major": 2,
              "version_minor": 0,
              "model_id": "c66760183b3f4aa8b79087647a042994"
            }
          },
          "metadata": {}
        }
      ]
    },
    {
      "cell_type": "code",
      "source": [
        "#img = PILImage.create(uploader.data[0])"
      ],
      "metadata": {
        "id": "Q3QZT4xRoPaR"
      },
      "execution_count": null,
      "outputs": []
    },
    {
      "cell_type": "code",
      "source": [
        "from PIL import Image"
      ],
      "metadata": {
        "id": "9h8Ks8_eeOSw"
      },
      "execution_count": null,
      "outputs": []
    },
    {
      "cell_type": "code",
      "source": [
        "x = guess_fruit(img)\n",
        "x"
      ],
      "metadata": {
        "colab": {
          "base_uri": "https://localhost:8080/",
          "height": 119
        },
        "id": "eQRyvlwWog8f",
        "outputId": "c01b6015-9046-42da-9fe5-89c766dd9ef3"
      },
      "execution_count": null,
      "outputs": [
        {
          "output_type": "display_data",
          "data": {
            "text/plain": [
              "<IPython.core.display.HTML object>"
            ],
            "text/html": [
              "\n",
              "<style>\n",
              "    /* Turns off some styling */\n",
              "    progress {\n",
              "        /* gets rid of default border in Firefox and Opera. */\n",
              "        border: none;\n",
              "        /* Needs to be in here for Safari polyfill so background images work as expected. */\n",
              "        background-size: auto;\n",
              "    }\n",
              "    progress:not([value]), progress:not([value])::-webkit-progress-bar {\n",
              "        background: repeating-linear-gradient(45deg, #7e7e7e, #7e7e7e 10px, #5c5c5c 10px, #5c5c5c 20px);\n",
              "    }\n",
              "    .progress-bar-interrupted, .progress-bar-interrupted::-webkit-progress-bar {\n",
              "        background: #F44336;\n",
              "    }\n",
              "</style>\n"
            ]
          },
          "metadata": {}
        },
        {
          "output_type": "display_data",
          "data": {
            "text/plain": [
              "<IPython.core.display.HTML object>"
            ],
            "text/html": []
          },
          "metadata": {}
        },
        {
          "output_type": "execute_result",
          "data": {
            "text/plain": [
              "('fruits',\n",
              " '0.2994627834596031%',\n",
              " 'แอปเปิ้ล',\n",
              " 'บักแอปเปิ้ล',\n",
              " 'แอปเปิ้ล',\n",
              " 'อเปิ้ล')"
            ]
          },
          "metadata": {},
          "execution_count": 51
        }
      ]
    },
    {
      "cell_type": "code",
      "source": [
        "from gradio.components import clear_button\n",
        "import gradio as gr\n",
        "\n",
        "# สร้างฟังก์ชันที่ต้องการให้ Gradio ใช้\n",
        "def guess_fruit(img):\n",
        "    kind, _, error = nongAI.predict(img)\n",
        "    fruits = str(kind)\n",
        "    error = error[1].item() * 10**6\n",
        "    info = dialect[fruits]\n",
        "    if error > 10**10:\n",
        "        return f\"<h3>Error Percentage</h3>: {error:.2f}%\", \\\n",
        "               f\"<h3>Formal Language</h3>: ขออภัยสำหรับข้อผิดพลาดค่ะ\", \\\n",
        "               f\"<h3>Isan Dialect</h3>: ขออภัยสำหรับข้อผิดพลาดเด้อ\", \\\n",
        "               f\"<h3>Northern Thai Dialect</h3>: ขอสุมาเต๊อะจ้าว\", \\\n",
        "               f\"<h3>Southern Thai Dialect</h3>: ขอโทษสำหรับข้อผิดพลาด\"\n",
        "\n",
        "    return f\"<h3>Error Percentage</h3>: {error:.2f}%\", \\\n",
        "           f\"<h3>Formal Language</h3>: {info['Formal_language']}\", \\\n",
        "           f\"<h3>Isan Dialect</h3>: {info['Isan_dialect']}\", \\\n",
        "           f\"<h3>Northern Thai Dialect</h3>: {info['Northern_Thai_dialect']}\", \\\n",
        "           f\"<h3>Southern Thai Dialect</h3>: {info['Southern_Thai_dialect']}\"\n",
        "\n",
        "\n",
        "examplesp = [\n",
        "    [\"https://cdn.pixabay.com/photo/2017/09/26/13/31/apple-2788616_1280.jpg\"],  # ตัวอย่างแอปเปิ้ล\n",
        "    [\"https://cdn.pixabay.com/photo/2016/10/07/14/11/tangerines-1721633_1280.jpg\"],  # ตัวอย่างส้ม\n",
        "    [\"https://cdn.pixabay.com/photo/2017/03/01/15/50/jackfruit-2108869_1280.jpg\"], # ตัวอย่างขนุน\n",
        "    [\"https://cdn.pixabay.com/photo/2016/03/05/21/50/fresh-1239116_1280.jpg\"], #ตัวอย่างสัปปะรด\n",
        "    [\"https://cdn.pixabay.com/photo/2018/09/24/20/12/bananas-3700718_1280.jpg\"] #ตัวอย่างกล้วย\n",
        "\n",
        "]\n",
        "css = \"\"\"\n",
        "body {\n",
        "    background-color: pink;\n",
        "}\n",
        "\"\"\"\n",
        "\n",
        "\n",
        "iface = gr.Interface(\n",
        "    fn=guess_fruit,\n",
        "    inputs=\"image\",\n",
        "    outputs=[\n",
        "        gr.outputs.HTML(\"Error Percentage\"),  # Output for error percentage\n",
        "        gr.outputs.HTML(\"Formal Language\"),   # Output for Formal language\n",
        "        gr.outputs.HTML(\"Isan Dialect\"),      # Output for Isan dialect\n",
        "        gr.outputs.HTML(\"Northern Thai Dialect\"),  # Output for Northern Thai dialect\n",
        "        gr.outputs.HTML(\"Southern Thai Dialect\")   # Output for Southern Thai dialect\n",
        "    ],\n",
        "    title=\"FRUITS TO LEARNING\",\n",
        "    description=\"IT'S THE SAME BUT DIFFERENT \\n Names of Fruits in Different Regions of Thailand\",\n",
        "    clear_btn=\"เคลียร์\",\n",
        "    submit_button=\"ไปเลยอ้าย\",\n",
        "    theme=theme,\n",
        "    examples=examplesp,\n",
        "    css=css\n",
        ")\n",
        "\n",
        "iface.launch()\n"
      ],
      "metadata": {
        "colab": {
          "base_uri": "https://localhost:8080/",
          "height": 677
        },
        "id": "9zRbUwPChx2P",
        "outputId": "3a5ef2aa-7f9e-4dc7-dd90-1726ee4cd613"
      },
      "execution_count": null,
      "outputs": [
        {
          "output_type": "stream",
          "name": "stderr",
          "text": [
            "<ipython-input-33-efa937129bf9>:39: GradioUnusedKwargWarning: You have unused kwarg parameters in Interface, please remove them: {'clear_btn': 'เคลียร์', 'submit_button': 'ไปเลยอ้าย'}\n",
            "  iface = gr.Interface(\n"
          ]
        },
        {
          "output_type": "stream",
          "name": "stdout",
          "text": [
            "Setting queue=True in a Colab notebook requires sharing enabled. Setting `share=True` (you can turn this off by setting `share=False` in `launch()` explicitly).\n",
            "\n",
            "Colab notebook detected. To show errors in colab notebook, set debug=True in launch()\n",
            "Running on public URL: https://868dfbb8abc2179bec.gradio.live\n",
            "\n",
            "This share link expires in 72 hours. For free permanent hosting and GPU upgrades, run `gradio deploy` from Terminal to deploy to Spaces (https://huggingface.co/spaces)\n"
          ]
        },
        {
          "output_type": "display_data",
          "data": {
            "text/plain": [
              "<IPython.core.display.HTML object>"
            ],
            "text/html": [
              "<div><iframe src=\"https://868dfbb8abc2179bec.gradio.live\" width=\"100%\" height=\"500\" allow=\"autoplay; camera; microphone; clipboard-read; clipboard-write;\" frameborder=\"0\" allowfullscreen></iframe></div>"
            ]
          },
          "metadata": {}
        },
        {
          "output_type": "execute_result",
          "data": {
            "text/plain": []
          },
          "metadata": {},
          "execution_count": 33
        }
      ]
    },
    {
      "cell_type": "code",
      "source": [],
      "metadata": {
        "id": "HaM-FWDtwLRy"
      },
      "execution_count": null,
      "outputs": []
    }
  ]
}